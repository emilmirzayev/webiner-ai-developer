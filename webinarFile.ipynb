{
 "cells": [
  {
   "cell_type": "markdown",
   "id": "92595d80-da9a-4e21-8a23-be17fadf1c0e",
   "metadata": {},
   "source": [
    "## LLM tipli AI\n",
    "\n",
    "1. Openai- GPT4 1.5 trilyon\n",
    "2. Claude (Anthropic)\n",
    "3. LLAMA 1, 2\n",
    "4. Falcon\n",
    "5. Baba (Ali Baba)"
   ]
  },
  {
   "cell_type": "markdown",
   "id": "c70ec8dd-f95b-483f-bf85-7b1598284b9a",
   "metadata": {},
   "source": [
    "Workflow\n",
    "1. Read the file and create knowledgebase\n",
    "2. Set up language model and chain\n",
    "3. Write queries"
   ]
  },
  {
   "cell_type": "code",
   "execution_count": 22,
   "id": "3b624e32-9444-45fd-bf85-5351d6d8654d",
   "metadata": {},
   "outputs": [],
   "source": [
    "import langchain\n",
    "import openai #openai ilə işləmək üçün\n",
    "from dotenv import load_dotenv\n",
    "import os\n",
    "\n",
    "\n",
    "from langchain.document_loaders import PyPDFLoader\n",
    "from langchain.text_splitter import RecursiveCharacterTextSplitter\n",
    "from langchain.embeddings import OpenAIEmbeddings\n",
    "from langchain.vectorstores import Chroma\n",
    "from langchain.chat_models import ChatOpenAI\n",
    "from langchain.chains import ConversationalRetrievalChain\n",
    "from langchain.memory import ConversationBufferMemory\n",
    "\n",
    "\n",
    "\n",
    "load_dotenv()\n",
    "\n",
    "OPENAI_API_KEY = os.getenv(\"OPENAI_API_KEY\")\n",
    "\n"
   ]
  },
  {
   "cell_type": "code",
   "execution_count": 2,
   "id": "38c1b974-552f-41fb-9643-742bc7b4c8c9",
   "metadata": {},
   "outputs": [],
   "source": [
    "doc_loader = PyPDFLoader(\"pandasDocumentation.pdf\")\n",
    "doc = doc_loader.load()"
   ]
  },
  {
   "cell_type": "code",
   "execution_count": 4,
   "id": "7a50425b-d96e-4338-856e-fa4e8a5199ef",
   "metadata": {},
   "outputs": [],
   "source": [
    "text_splitter = RecursiveCharacterTextSplitter(chunk_size = 4000)\n",
    "splitted_text = text_splitter.split_documents(doc)"
   ]
  },
  {
   "cell_type": "code",
   "execution_count": 10,
   "id": "94722ff9-8fe7-4b17-887b-690c599acddb",
   "metadata": {},
   "outputs": [],
   "source": [
    "embeddings = OpenAIEmbeddings(openai_api_key = OPENAI_API_KEY,\n",
    "                             model = \"text-embedding-ada-002\",\n",
    "                             timeout = 50)"
   ]
  },
  {
   "cell_type": "markdown",
   "id": "083b9bf7-6433-4839-99a3-7298dd996098",
   "metadata": {},
   "source": [
    "## To save embeddings locally Vectorstores"
   ]
  },
  {
   "cell_type": "code",
   "execution_count": 12,
   "id": "978b5372-fa1b-4e7a-9c64-e7a980b773ea",
   "metadata": {
    "scrolled": true
   },
   "outputs": [
    {
     "name": "stderr",
     "output_type": "stream",
     "text": [
      "Retrying langchain.embeddings.openai.embed_with_retry.<locals>._embed_with_retry in 4.0 seconds as it raised RateLimitError: Rate limit reached for default-text-embedding-ada-002 in organization org-EblPKrcJWK3OmU3Axd0MLDaI on tokens per min. Limit: 1000000 / min. Current: 854062 / min. Contact us through our help center at help.openai.com if you continue to have issues..\n",
      "Retrying langchain.embeddings.openai.embed_with_retry.<locals>._embed_with_retry in 4.0 seconds as it raised RateLimitError: Rate limit reached for default-text-embedding-ada-002 in organization org-EblPKrcJWK3OmU3Axd0MLDaI on tokens per min. Limit: 1000000 / min. Current: 753916 / min. Contact us through our help center at help.openai.com if you continue to have issues..\n",
      "Retrying langchain.embeddings.openai.embed_with_retry.<locals>._embed_with_retry in 4.0 seconds as it raised RateLimitError: Rate limit reached for default-text-embedding-ada-002 in organization org-EblPKrcJWK3OmU3Axd0MLDaI on tokens per min. Limit: 1000000 / min. Current: 639326 / min. Contact us through our help center at help.openai.com if you continue to have issues..\n"
     ]
    }
   ],
   "source": [
    "save_directory = \"PandasDB\"\n",
    "\n",
    "db = Chroma.from_documents(documents= splitted_text,\n",
    "                           embedding= embeddings,\n",
    "                           persist_directory= save_directory\n",
    "                          )\n",
    "\n",
    "db.persist()"
   ]
  },
  {
   "cell_type": "code",
   "execution_count": 13,
   "id": "db5d79d7-1b85-4d7f-8d95-62e98c585ef5",
   "metadata": {},
   "outputs": [],
   "source": [
    "db = None\n",
    "\n",
    "directory_to_load_from = \"PandasDB\"\n",
    "\n",
    "db = Chroma(persist_directory= directory_to_load_from,\n",
    "                            embedding_function= embeddings)\n"
   ]
  },
  {
   "cell_type": "code",
   "execution_count": 54,
   "id": "48cfd358-270b-4774-a59f-9f6587202cf3",
   "metadata": {},
   "outputs": [],
   "source": [
    "LLM = ChatOpenAI(openai_api_key = OPENAI_API_KEY,\n",
    "                 temperature= 1\n",
    "                )\n",
    "\n",
    "memory = ConversationBufferMemory(llm = LLM,\n",
    "                                  output_key= \"answer\",\n",
    "                                  memory_key = \"chat_history\",\n",
    "                                  return_messages= True\n",
    "                                 )\n",
    "retriever = db.as_retriever(k = 3)\n",
    "\n",
    "chain = ConversationalRetrievalChain.from_llm(\n",
    "                                     llm = LLM,\n",
    "                                     memory = memory,\n",
    "                                     verbose= False,\n",
    "                                     retriever= retriever,\n",
    "                                     return_source_documents= False,\n",
    "                                     chain_type= \"stuff\",\n",
    "                                     get_chat_history = lambda x: x\n",
    "                                    )\n"
   ]
  },
  {
   "cell_type": "code",
   "execution_count": 37,
   "id": "88b34540-e590-4286-8d15-c7c426cabae9",
   "metadata": {},
   "outputs": [],
   "source": [
    "x = chain.run({\"question\": \"\"\"\n",
    "            I have a pandas dataframe which I want to turn into numpy array.\n",
    "            Write me an example code which does that. My dataframe has 250x400 shape\"\"\"}\n",
    "         )"
   ]
  },
  {
   "cell_type": "code",
   "execution_count": 39,
   "id": "bdeeff3d-59c5-46e7-831c-598676537e50",
   "metadata": {},
   "outputs": [],
   "source": [
    "from IPython.display import Markdown, display"
   ]
  },
  {
   "cell_type": "code",
   "execution_count": 40,
   "id": "2d8ef8bd-9a41-4bd2-beff-a01128b1585f",
   "metadata": {},
   "outputs": [
    {
     "data": {
      "text/markdown": [
       "To convert a pandas DataFrame with a shape of 250x400 into a numpy array, you can use the `to_numpy()` method. Here is an example code:\n",
       "\n",
       "```python\n",
       "import pandas as pd\n",
       "\n",
       "# Assuming you have a DataFrame called df with shape 250x400\n",
       "numpy_array = df.to_numpy()\n",
       "\n",
       "print(numpy_array.shape)  # Output: (250, 400)\n",
       "```\n",
       "\n",
       "This code will convert the DataFrame `df` into a numpy array `numpy_array` with the same shape."
      ],
      "text/plain": [
       "<IPython.core.display.Markdown object>"
      ]
     },
     "metadata": {},
     "output_type": "display_data"
    }
   ],
   "source": [
    "display(Markdown(x))"
   ]
  },
  {
   "cell_type": "code",
   "execution_count": 45,
   "id": "65f5a1e7-6080-4200-b91e-b4a6e4e5a823",
   "metadata": {},
   "outputs": [],
   "source": [
    "def display_markdown(func):\n",
    "\n",
    "    def wrapper(*args, **kwargs):\n",
    "        result = func(*args, **kwargs)\n",
    "        display(Markdown(result))\n",
    "        return result\n",
    "    return wrapper\n",
    "\n",
    "class MyMarkdownBasedChain(ConversationalRetrievalChain):\n",
    "\n",
    "    def run(self, *args, **kwargs):\n",
    "        original_result = super().run(*args, **kwargs)\n",
    "        return display(Markdown(original_result))\n",
    "\n",
    "\n",
    "    "
   ]
  },
  {
   "cell_type": "code",
   "execution_count": 46,
   "id": "3f807d67-c709-4b8d-910c-46cfc2da83a8",
   "metadata": {},
   "outputs": [],
   "source": [
    "chain_2 = MyMarkdownBasedChain.from_llm(\n",
    "                                     llm = LLM,\n",
    "                                     memory = memory,\n",
    "                                     verbose= False,\n",
    "                                     retriever= retriever,\n",
    "                                     return_source_documents= False,\n",
    "                                     chain_type= \"stuff\",\n",
    "                                     get_chat_history = lambda x: x\n",
    "                                    )\n"
   ]
  },
  {
   "cell_type": "code",
   "execution_count": 47,
   "id": "cd638816-f339-400e-8159-7954119bca44",
   "metadata": {},
   "outputs": [
    {
     "data": {
      "text/markdown": [
       "To convert a pandas DataFrame with a shape of 250x400 into a numpy array, you can use the `to_numpy()` method. Here is an example code:\n",
       "\n",
       "```python\n",
       "import pandas as pd\n",
       "import numpy as np\n",
       "\n",
       "# Create a sample DataFrame\n",
       "df = pd.DataFrame(np.random.randn(250, 400))\n",
       "\n",
       "# Convert DataFrame to numpy array\n",
       "array = df.to_numpy()\n",
       "\n",
       "# Print the shape of the numpy array\n",
       "print(array.shape)\n",
       "```\n",
       "\n",
       "This code will convert the DataFrame `df` into a numpy array `array` and then print the shape of the array, which should be (250, 400)."
      ],
      "text/plain": [
       "<IPython.core.display.Markdown object>"
      ]
     },
     "metadata": {},
     "output_type": "display_data"
    }
   ],
   "source": [
    "chain_2.run({\"question\": \"\"\"\n",
    "            I have a pandas dataframe which I want to turn into numpy array.\n",
    "            Write me an example code which does that. My dataframe has 250x400 shape\"\"\"}\n",
    "         )"
   ]
  },
  {
   "cell_type": "code",
   "execution_count": 49,
   "id": "d5871753-2bc2-47ae-a226-1c5bc245f53d",
   "metadata": {},
   "outputs": [
    {
     "data": {
      "text/markdown": [
       "Based on the given context, there is no specific information about the 'Value' column in the DataFrame. Therefore, it is likely that the KeyError is occurring because the 'Value' column does not exist in the DataFrame."
      ],
      "text/plain": [
       "<IPython.core.display.Markdown object>"
      ]
     },
     "metadata": {},
     "output_type": "display_data"
    }
   ],
   "source": [
    "chain_2.run(\"\"\"\n",
    "            How to solve a KeyError problem in Pandas\n",
    "\n",
    "\n",
    "           Gender   Value   Year    Measure\n",
    "Name                \n",
    "Ma         girl     0       1997    Rank\n",
    "Nabiha     girl     1204    2014    Rank\n",
    "Muad.      boy      1749    2009    Rank\n",
    "Zynah      girl     4763    2017    Rank\n",
    "Aathavi    girl     0       2019    Rank\n",
    "Kia-Marie  girl     0       2017    Count\n",
    "Tishaan    boy      0       2006    Rank\n",
    "Ryyan      boy      0       2010    Count\n",
    "Llyr       boy      1852    2012    Rank\n",
    "Abdirazaq  boy      0       2017    Rank\n",
    "\n",
    "given this dataframe, when i try to apply a custom function to this dataframe as seen\n",
    "below, i get keyError. It complains about Value.\n",
    "\n",
    "df['Rank'] = df.apply(adjust_rank)\n",
    "Why do I get: KeyError: 'Value'?\n",
    "\"\"\"\n",
    "           )"
   ]
  },
  {
   "cell_type": "code",
   "execution_count": 50,
   "id": "630667e6-3047-47d9-8e97-3e78756dee48",
   "metadata": {},
   "outputs": [
    {
     "data": {
      "text/markdown": [
       "I don't have enough information to answer that question."
      ],
      "text/plain": [
       "<IPython.core.display.Markdown object>"
      ]
     },
     "metadata": {},
     "output_type": "display_data"
    }
   ],
   "source": [
    "chain_2.run(\"\"\"\n",
    "            It does exist in the dataframe though\n",
    "\"\"\"\n",
    "           )"
   ]
  },
  {
   "cell_type": "code",
   "execution_count": 53,
   "id": "a4f48013-e2f2-4ad4-a12b-4d0ffda02251",
   "metadata": {},
   "outputs": [
    {
     "data": {
      "text/markdown": [
       "Certainly! Here's an example code on pandas pivot:\n",
       "\n",
       "```python\n",
       "import pandas as pd\n",
       "\n",
       "# Create a sample DataFrame\n",
       "data = {\n",
       "    'City': ['New York', 'Chicago', 'Los Angeles', 'New York', 'Chicago', 'Los Angeles'],\n",
       "    'Year': [2019, 2019, 2019, 2020, 2020, 2020],\n",
       "    'Sales': [100, 200, 150, 120, 180, 130]\n",
       "}\n",
       "\n",
       "df = pd.DataFrame(data)\n",
       "\n",
       "# Pivot the DataFrame\n",
       "pivot_df = df.pivot(index='City', columns='Year', values='Sales')\n",
       "\n",
       "print(pivot_df)\n",
       "```\n",
       "\n",
       "This code creates a DataFrame with columns 'City', 'Year', and 'Sales'. It then uses the `pivot()` function to pivot the DataFrame, with 'City' as the index, 'Year' as the columns, and 'Sales' as the values. The resulting pivoted DataFrame is then printed.\n",
       "\n",
       "And here's the equivalent Python script:\n",
       "\n",
       "```python\n",
       "import pandas as pd\n",
       "\n",
       "data = {\n",
       "    'City': ['New York', 'Chicago', 'Los Angeles', 'New York', 'Chicago', 'Los Angeles'],\n",
       "    'Year': [2019, 2019, 2019, 2020, 2020, 2020],\n",
       "    'Sales': [100, 200, 150, 120, 180, 130]\n",
       "}\n",
       "\n",
       "df = pd.DataFrame(data)\n",
       "\n",
       "pivot_df = df.pivot(index='City', columns='Year', values='Sales')\n",
       "\n",
       "print(pivot_df)\n",
       "```\n",
       "\n",
       "You can save this script in a Python file (e.g., `pivot_example.py`) and run it using a Python interpreter or IDE."
      ],
      "text/plain": [
       "<IPython.core.display.Markdown object>"
      ]
     },
     "metadata": {},
     "output_type": "display_data"
    }
   ],
   "source": [
    "chain_2.run(\"\"\"\n",
    "                give me an example code on pandas pivot. generate a python script on pandas pivot\n",
    "\"\"\"\n",
    "           )"
   ]
  },
  {
   "cell_type": "code",
   "execution_count": 56,
   "id": "bb5a751f-fdd1-404f-90c0-5604fbcf70ee",
   "metadata": {},
   "outputs": [
    {
     "data": {
      "text/markdown": [
       "Sure! Let's go through the example code step by step:\n",
       "\n",
       "1. First, we import the pandas library and numpy library:\n",
       "   ```python\n",
       "   import pandas as pd\n",
       "   import numpy as np\n",
       "   ```\n",
       "\n",
       "2. Next, we create a list of tuples called \"tuples\". Each tuple contains two elements: the first element is a string representing a category (\"bar\", \"baz\", \"foo\", \"qux\"), and the second element is a string representing a sub-category (\"one\", \"two\"):\n",
       "   ```python\n",
       "   tuples = list(zip(*[[\"bar\", \"bar\", \"baz\", \"baz\", \"foo\", \"foo\", \"qux\", \"qux\"], [\"one\", \"two\", \"one\", \"two\", \"one\", \"two\", \"one\", \"two\"]]))\n",
       "   ```\n",
       "\n",
       "3. We create a MultiIndex from the \"tuples\" list, with the names \"first\" and \"second\" for the levels of the index:\n",
       "   ```python\n",
       "   index = pd.MultiIndex.from_tuples(tuples, names=[\"first\", \"second\"])\n",
       "   ```\n",
       "\n",
       "4. We create a DataFrame called \"df\" with random values from a normal distribution, with 8 rows and 2 columns. We set the index of the DataFrame to be the \"index\" MultiIndex we created earlier, and we name the columns \"A\" and \"B\":\n",
       "   ```python\n",
       "   df = pd.DataFrame(np.random.randn(8, 2), index=index, columns=[\"A\", \"B\"])\n",
       "   ```\n",
       "\n",
       "5. We create a new DataFrame called \"df2\" by selecting the first 4 rows of the \"df\" DataFrame:\n",
       "   ```python\n",
       "   df2 = df[:4]\n",
       "   ```\n",
       "\n",
       "6. Finally, we display the \"df2\" DataFrame:\n",
       "   ```python\n",
       "   df2\n",
       "   ```\n",
       "\n",
       "The output will be a DataFrame with 4 rows and 2 columns, where the rows are labeled with the categories and sub-categories from the \"tuples\" list, and the columns are labeled \"A\" and \"B\". The values in the DataFrame are random numbers from a normal distribution."
      ],
      "text/plain": [
       "<IPython.core.display.Markdown object>"
      ]
     },
     "metadata": {},
     "output_type": "display_data"
    }
   ],
   "source": [
    "chain_2.run(\"\"\" given your example above, explain it step by step\"\"\")"
   ]
  },
  {
   "cell_type": "code",
   "execution_count": null,
   "id": "771bfe6f-6455-4a7f-9805-2cbf75108405",
   "metadata": {},
   "outputs": [],
   "source": []
  }
 ],
 "metadata": {
  "kernelspec": {
   "display_name": "Python 3 (ipykernel)",
   "language": "python",
   "name": "python3"
  },
  "language_info": {
   "codemirror_mode": {
    "name": "ipython",
    "version": 3
   },
   "file_extension": ".py",
   "mimetype": "text/x-python",
   "name": "python",
   "nbconvert_exporter": "python",
   "pygments_lexer": "ipython3",
   "version": "3.11.1"
  }
 },
 "nbformat": 4,
 "nbformat_minor": 5
}
